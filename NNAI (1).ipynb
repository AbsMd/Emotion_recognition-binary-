{
  "nbformat": 4,
  "nbformat_minor": 0,
  "metadata": {
    "colab": {
      "name": "NNAI.ipynb",
      "provenance": [],
      "collapsed_sections": []
    },
    "kernelspec": {
      "name": "python3",
      "display_name": "Python 3"
    }
  },
  "cells": [
    {
      "cell_type": "code",
      "metadata": {
        "id": "4CL0eT8aFLOr"
      },
      "source": [
        "import numpy as np\n",
        "import pandas as pd\n",
        "from keras import Sequential\n",
        "from keras.layers import Dense"
      ],
      "execution_count": 8,
      "outputs": []
    },
    {
      "cell_type": "code",
      "metadata": {
        "id": "uAakP2yEFLon"
      },
      "source": [
        "data = pd.read_excel('surprise_and_others.xlsx')"
      ],
      "execution_count": 9,
      "outputs": []
    },
    {
      "cell_type": "code",
      "metadata": {
        "id": "G_TVpAyjFMBy",
        "outputId": "de0b1c77-bf72-4dee-c1e1-3a6860be51d7",
        "colab": {
          "base_uri": "https://localhost:8080/",
          "height": 415
        }
      },
      "source": [
        "data.drop(['frame', ' confidence'], axis = 1, inplace = True)\n",
        "data"
      ],
      "execution_count": 10,
      "outputs": [
        {
          "output_type": "execute_result",
          "data": {
            "text/html": [
              "<div>\n",
              "<style scoped>\n",
              "    .dataframe tbody tr th:only-of-type {\n",
              "        vertical-align: middle;\n",
              "    }\n",
              "\n",
              "    .dataframe tbody tr th {\n",
              "        vertical-align: top;\n",
              "    }\n",
              "\n",
              "    .dataframe thead th {\n",
              "        text-align: right;\n",
              "    }\n",
              "</style>\n",
              "<table border=\"1\" class=\"dataframe\">\n",
              "  <thead>\n",
              "    <tr style=\"text-align: right;\">\n",
              "      <th></th>\n",
              "      <th>AU01_r</th>\n",
              "      <th>AU02_r</th>\n",
              "      <th>AU04_r</th>\n",
              "      <th>AU05_r</th>\n",
              "      <th>AU06_r</th>\n",
              "      <th>AU07_r</th>\n",
              "      <th>AU09_r</th>\n",
              "      <th>AU45_r</th>\n",
              "      <th>Emotion</th>\n",
              "    </tr>\n",
              "  </thead>\n",
              "  <tbody>\n",
              "    <tr>\n",
              "      <th>0</th>\n",
              "      <td>0.92</td>\n",
              "      <td>0.80</td>\n",
              "      <td>1.84</td>\n",
              "      <td>0.31</td>\n",
              "      <td>0.12</td>\n",
              "      <td>3.04</td>\n",
              "      <td>0.00</td>\n",
              "      <td>0.00</td>\n",
              "      <td>0</td>\n",
              "    </tr>\n",
              "    <tr>\n",
              "      <th>1</th>\n",
              "      <td>0.84</td>\n",
              "      <td>0.81</td>\n",
              "      <td>1.81</td>\n",
              "      <td>0.34</td>\n",
              "      <td>0.07</td>\n",
              "      <td>2.83</td>\n",
              "      <td>0.00</td>\n",
              "      <td>0.00</td>\n",
              "      <td>0</td>\n",
              "    </tr>\n",
              "    <tr>\n",
              "      <th>2</th>\n",
              "      <td>0.54</td>\n",
              "      <td>0.55</td>\n",
              "      <td>1.54</td>\n",
              "      <td>0.24</td>\n",
              "      <td>0.03</td>\n",
              "      <td>2.08</td>\n",
              "      <td>0.00</td>\n",
              "      <td>0.10</td>\n",
              "      <td>0</td>\n",
              "    </tr>\n",
              "    <tr>\n",
              "      <th>3</th>\n",
              "      <td>0.30</td>\n",
              "      <td>0.23</td>\n",
              "      <td>1.31</td>\n",
              "      <td>0.18</td>\n",
              "      <td>0.01</td>\n",
              "      <td>1.46</td>\n",
              "      <td>0.00</td>\n",
              "      <td>0.28</td>\n",
              "      <td>0</td>\n",
              "    </tr>\n",
              "    <tr>\n",
              "      <th>4</th>\n",
              "      <td>0.07</td>\n",
              "      <td>0.00</td>\n",
              "      <td>1.07</td>\n",
              "      <td>0.00</td>\n",
              "      <td>0.00</td>\n",
              "      <td>0.71</td>\n",
              "      <td>0.00</td>\n",
              "      <td>0.44</td>\n",
              "      <td>0</td>\n",
              "    </tr>\n",
              "    <tr>\n",
              "      <th>...</th>\n",
              "      <td>...</td>\n",
              "      <td>...</td>\n",
              "      <td>...</td>\n",
              "      <td>...</td>\n",
              "      <td>...</td>\n",
              "      <td>...</td>\n",
              "      <td>...</td>\n",
              "      <td>...</td>\n",
              "      <td>...</td>\n",
              "    </tr>\n",
              "    <tr>\n",
              "      <th>420</th>\n",
              "      <td>0.00</td>\n",
              "      <td>0.00</td>\n",
              "      <td>0.00</td>\n",
              "      <td>0.26</td>\n",
              "      <td>0.00</td>\n",
              "      <td>0.97</td>\n",
              "      <td>0.37</td>\n",
              "      <td>0.00</td>\n",
              "      <td>1</td>\n",
              "    </tr>\n",
              "    <tr>\n",
              "      <th>421</th>\n",
              "      <td>0.00</td>\n",
              "      <td>0.00</td>\n",
              "      <td>0.00</td>\n",
              "      <td>0.19</td>\n",
              "      <td>0.00</td>\n",
              "      <td>0.66</td>\n",
              "      <td>0.23</td>\n",
              "      <td>0.00</td>\n",
              "      <td>1</td>\n",
              "    </tr>\n",
              "    <tr>\n",
              "      <th>422</th>\n",
              "      <td>0.00</td>\n",
              "      <td>0.00</td>\n",
              "      <td>0.00</td>\n",
              "      <td>0.06</td>\n",
              "      <td>0.00</td>\n",
              "      <td>0.33</td>\n",
              "      <td>0.11</td>\n",
              "      <td>0.00</td>\n",
              "      <td>1</td>\n",
              "    </tr>\n",
              "    <tr>\n",
              "      <th>423</th>\n",
              "      <td>0.00</td>\n",
              "      <td>0.00</td>\n",
              "      <td>0.00</td>\n",
              "      <td>0.00</td>\n",
              "      <td>0.00</td>\n",
              "      <td>0.00</td>\n",
              "      <td>0.00</td>\n",
              "      <td>0.00</td>\n",
              "      <td>1</td>\n",
              "    </tr>\n",
              "    <tr>\n",
              "      <th>424</th>\n",
              "      <td>0.00</td>\n",
              "      <td>0.00</td>\n",
              "      <td>0.00</td>\n",
              "      <td>0.00</td>\n",
              "      <td>0.00</td>\n",
              "      <td>0.00</td>\n",
              "      <td>0.00</td>\n",
              "      <td>0.00</td>\n",
              "      <td>1</td>\n",
              "    </tr>\n",
              "  </tbody>\n",
              "</table>\n",
              "<p>425 rows × 9 columns</p>\n",
              "</div>"
            ],
            "text/plain": [
              "      AU01_r   AU02_r   AU04_r   AU05_r  ...   AU07_r   AU09_r   AU45_r  Emotion\n",
              "0       0.92     0.80     1.84     0.31  ...     3.04     0.00     0.00        0\n",
              "1       0.84     0.81     1.81     0.34  ...     2.83     0.00     0.00        0\n",
              "2       0.54     0.55     1.54     0.24  ...     2.08     0.00     0.10        0\n",
              "3       0.30     0.23     1.31     0.18  ...     1.46     0.00     0.28        0\n",
              "4       0.07     0.00     1.07     0.00  ...     0.71     0.00     0.44        0\n",
              "..       ...      ...      ...      ...  ...      ...      ...      ...      ...\n",
              "420     0.00     0.00     0.00     0.26  ...     0.97     0.37     0.00        1\n",
              "421     0.00     0.00     0.00     0.19  ...     0.66     0.23     0.00        1\n",
              "422     0.00     0.00     0.00     0.06  ...     0.33     0.11     0.00        1\n",
              "423     0.00     0.00     0.00     0.00  ...     0.00     0.00     0.00        1\n",
              "424     0.00     0.00     0.00     0.00  ...     0.00     0.00     0.00        1\n",
              "\n",
              "[425 rows x 9 columns]"
            ]
          },
          "metadata": {
            "tags": []
          },
          "execution_count": 10
        }
      ]
    },
    {
      "cell_type": "code",
      "metadata": {
        "id": "oIpJ4N-N2prO",
        "outputId": "5f459c08-e6bb-4eb6-ee45-783af99cdca9",
        "colab": {
          "base_uri": "https://localhost:8080/",
          "height": 415
        }
      },
      "source": [
        "data=data.sample(frac=1,random_state=1)\n",
        "data"
      ],
      "execution_count": 11,
      "outputs": [
        {
          "output_type": "execute_result",
          "data": {
            "text/html": [
              "<div>\n",
              "<style scoped>\n",
              "    .dataframe tbody tr th:only-of-type {\n",
              "        vertical-align: middle;\n",
              "    }\n",
              "\n",
              "    .dataframe tbody tr th {\n",
              "        vertical-align: top;\n",
              "    }\n",
              "\n",
              "    .dataframe thead th {\n",
              "        text-align: right;\n",
              "    }\n",
              "</style>\n",
              "<table border=\"1\" class=\"dataframe\">\n",
              "  <thead>\n",
              "    <tr style=\"text-align: right;\">\n",
              "      <th></th>\n",
              "      <th>AU01_r</th>\n",
              "      <th>AU02_r</th>\n",
              "      <th>AU04_r</th>\n",
              "      <th>AU05_r</th>\n",
              "      <th>AU06_r</th>\n",
              "      <th>AU07_r</th>\n",
              "      <th>AU09_r</th>\n",
              "      <th>AU45_r</th>\n",
              "      <th>Emotion</th>\n",
              "    </tr>\n",
              "  </thead>\n",
              "  <tbody>\n",
              "    <tr>\n",
              "      <th>172</th>\n",
              "      <td>0.00</td>\n",
              "      <td>0.00</td>\n",
              "      <td>1.93</td>\n",
              "      <td>0.00</td>\n",
              "      <td>0.00</td>\n",
              "      <td>0.45</td>\n",
              "      <td>0.00</td>\n",
              "      <td>0.61</td>\n",
              "      <td>0</td>\n",
              "    </tr>\n",
              "    <tr>\n",
              "      <th>78</th>\n",
              "      <td>0.01</td>\n",
              "      <td>0.00</td>\n",
              "      <td>0.54</td>\n",
              "      <td>0.00</td>\n",
              "      <td>0.53</td>\n",
              "      <td>2.05</td>\n",
              "      <td>0.35</td>\n",
              "      <td>0.00</td>\n",
              "      <td>0</td>\n",
              "    </tr>\n",
              "    <tr>\n",
              "      <th>122</th>\n",
              "      <td>1.66</td>\n",
              "      <td>1.97</td>\n",
              "      <td>0.42</td>\n",
              "      <td>0.82</td>\n",
              "      <td>0.00</td>\n",
              "      <td>1.13</td>\n",
              "      <td>0.00</td>\n",
              "      <td>0.00</td>\n",
              "      <td>0</td>\n",
              "    </tr>\n",
              "    <tr>\n",
              "      <th>376</th>\n",
              "      <td>0.03</td>\n",
              "      <td>0.01</td>\n",
              "      <td>0.01</td>\n",
              "      <td>0.00</td>\n",
              "      <td>0.00</td>\n",
              "      <td>0.00</td>\n",
              "      <td>0.00</td>\n",
              "      <td>0.17</td>\n",
              "      <td>1</td>\n",
              "    </tr>\n",
              "    <tr>\n",
              "      <th>146</th>\n",
              "      <td>0.74</td>\n",
              "      <td>0.25</td>\n",
              "      <td>0.00</td>\n",
              "      <td>0.12</td>\n",
              "      <td>0.91</td>\n",
              "      <td>0.68</td>\n",
              "      <td>0.20</td>\n",
              "      <td>0.12</td>\n",
              "      <td>0</td>\n",
              "    </tr>\n",
              "    <tr>\n",
              "      <th>...</th>\n",
              "      <td>...</td>\n",
              "      <td>...</td>\n",
              "      <td>...</td>\n",
              "      <td>...</td>\n",
              "      <td>...</td>\n",
              "      <td>...</td>\n",
              "      <td>...</td>\n",
              "      <td>...</td>\n",
              "      <td>...</td>\n",
              "    </tr>\n",
              "    <tr>\n",
              "      <th>255</th>\n",
              "      <td>0.00</td>\n",
              "      <td>0.00</td>\n",
              "      <td>0.00</td>\n",
              "      <td>0.18</td>\n",
              "      <td>0.00</td>\n",
              "      <td>0.02</td>\n",
              "      <td>0.00</td>\n",
              "      <td>0.03</td>\n",
              "      <td>1</td>\n",
              "    </tr>\n",
              "    <tr>\n",
              "      <th>72</th>\n",
              "      <td>0.00</td>\n",
              "      <td>0.00</td>\n",
              "      <td>0.14</td>\n",
              "      <td>0.53</td>\n",
              "      <td>0.23</td>\n",
              "      <td>2.71</td>\n",
              "      <td>0.00</td>\n",
              "      <td>0.52</td>\n",
              "      <td>0</td>\n",
              "    </tr>\n",
              "    <tr>\n",
              "      <th>396</th>\n",
              "      <td>0.04</td>\n",
              "      <td>0.00</td>\n",
              "      <td>0.00</td>\n",
              "      <td>0.00</td>\n",
              "      <td>0.00</td>\n",
              "      <td>0.00</td>\n",
              "      <td>0.00</td>\n",
              "      <td>0.02</td>\n",
              "      <td>1</td>\n",
              "    </tr>\n",
              "    <tr>\n",
              "      <th>235</th>\n",
              "      <td>0.00</td>\n",
              "      <td>0.03</td>\n",
              "      <td>0.00</td>\n",
              "      <td>0.00</td>\n",
              "      <td>0.00</td>\n",
              "      <td>0.00</td>\n",
              "      <td>0.00</td>\n",
              "      <td>0.00</td>\n",
              "      <td>1</td>\n",
              "    </tr>\n",
              "    <tr>\n",
              "      <th>37</th>\n",
              "      <td>1.98</td>\n",
              "      <td>1.21</td>\n",
              "      <td>0.00</td>\n",
              "      <td>0.00</td>\n",
              "      <td>0.00</td>\n",
              "      <td>0.64</td>\n",
              "      <td>0.00</td>\n",
              "      <td>0.00</td>\n",
              "      <td>0</td>\n",
              "    </tr>\n",
              "  </tbody>\n",
              "</table>\n",
              "<p>425 rows × 9 columns</p>\n",
              "</div>"
            ],
            "text/plain": [
              "      AU01_r   AU02_r   AU04_r   AU05_r  ...   AU07_r   AU09_r   AU45_r  Emotion\n",
              "172     0.00     0.00     1.93     0.00  ...     0.45     0.00     0.61        0\n",
              "78      0.01     0.00     0.54     0.00  ...     2.05     0.35     0.00        0\n",
              "122     1.66     1.97     0.42     0.82  ...     1.13     0.00     0.00        0\n",
              "376     0.03     0.01     0.01     0.00  ...     0.00     0.00     0.17        1\n",
              "146     0.74     0.25     0.00     0.12  ...     0.68     0.20     0.12        0\n",
              "..       ...      ...      ...      ...  ...      ...      ...      ...      ...\n",
              "255     0.00     0.00     0.00     0.18  ...     0.02     0.00     0.03        1\n",
              "72      0.00     0.00     0.14     0.53  ...     2.71     0.00     0.52        0\n",
              "396     0.04     0.00     0.00     0.00  ...     0.00     0.00     0.02        1\n",
              "235     0.00     0.03     0.00     0.00  ...     0.00     0.00     0.00        1\n",
              "37      1.98     1.21     0.00     0.00  ...     0.64     0.00     0.00        0\n",
              "\n",
              "[425 rows x 9 columns]"
            ]
          },
          "metadata": {
            "tags": []
          },
          "execution_count": 11
        }
      ]
    },
    {
      "cell_type": "code",
      "metadata": {
        "id": "LExSKNCTAA5a"
      },
      "source": [
        "def preproc(data):\n",
        "    X = data.iloc[:,:-1].to_numpy()\n",
        "    Y = data.iloc[:,-1].to_numpy()\n",
        "    #X_norm = (X - np.mean(X, axis = 0))/np.std(X, axis = 0)\n",
        "    \n",
        "    return X, Y"
      ],
      "execution_count": 12,
      "outputs": []
    },
    {
      "cell_type": "code",
      "metadata": {
        "id": "aSNsEHNqeGF2"
      },
      "source": [
        "X_train, Y_train = preproc(data)"
      ],
      "execution_count": 13,
      "outputs": []
    },
    {
      "cell_type": "code",
      "metadata": {
        "id": "6yExsBgWeLBb",
        "outputId": "675edf67-2ea5-4491-bf85-1be33538d9d1",
        "colab": {
          "base_uri": "https://localhost:8080/"
        }
      },
      "source": [
        "X_train.shape"
      ],
      "execution_count": 14,
      "outputs": [
        {
          "output_type": "execute_result",
          "data": {
            "text/plain": [
              "(425, 8)"
            ]
          },
          "metadata": {
            "tags": []
          },
          "execution_count": 14
        }
      ]
    },
    {
      "cell_type": "markdown",
      "metadata": {
        "id": "X6Cs6bTMZOaO"
      },
      "source": [
        "Adding layers"
      ]
    },
    {
      "cell_type": "code",
      "metadata": {
        "id": "BJJi7f1rZLF4"
      },
      "source": [
        "model = Sequential()\n",
        "#First Hidden Layer\n",
        "model.add(Dense(100, activation='relu', input_dim=8))\n",
        "#Second  Hidden Layer\n",
        "model.add(Dense(92, activation='relu'))\n",
        "#Third  Hidden Layer\n",
        "model.add(Dense(61, activation='relu'))\n",
        "#Output Layer\n",
        "model.add(Dense(1, activation='sigmoid'))"
      ],
      "execution_count": 15,
      "outputs": []
    },
    {
      "cell_type": "markdown",
      "metadata": {
        "id": "mlrXbD7jpgOb"
      },
      "source": [
        "Fit, evaluation and prediction\n"
      ]
    },
    {
      "cell_type": "code",
      "metadata": {
        "id": "nQiA5NH-AAec",
        "outputId": "fa4828c7-9584-4f93-c499-137d5bb1df6f",
        "colab": {
          "base_uri": "https://localhost:8080/"
        }
      },
      "source": [
        "model.compile(loss='binary_crossentropy', optimizer='adam', metrics=['accuracy'])\n",
        "model.fit(X_train, Y_train, epochs=100, batch_size=10, verbose=0)\n",
        "_, accuracy = model.evaluate(X_train, Y_train)\n",
        "print('Accuracy: %.2f' % (accuracy*100))\n",
        "\n",
        "dataset = pd.read_excel('surprise_test.xlsx')#################################change the file name accordingly\n",
        "dataset.drop(['frame', ' confidence'], axis = 1, inplace = True)\n",
        "\n",
        "X_test = dataset.iloc[:,:-1].to_numpy()\n",
        "Y_test = dataset.iloc[:,-1].to_numpy()\n",
        "\n",
        "predictions = (model.predict(X_test) > 0.5).astype(np.int32)\n",
        "# print classification results for the first 5 test cases\n",
        "for i in range(5):\n",
        "\tprint('%s => %d (expected %d)' % (X_test[i].tolist(), predictions[i], Y_test[i]))\t\n",
        "_, test_accuracy = model.evaluate(X_test, Y_test)\n",
        "print('Testing Accuracy: %.2f' % (test_accuracy*100))"
      ],
      "execution_count": 16,
      "outputs": [
        {
          "output_type": "stream",
          "text": [
            "14/14 [==============================] - 0s 1ms/step - loss: 0.0613 - accuracy: 0.9788\n",
            "Accuracy: 97.88\n",
            "[0.0, 0.49, 0.54, 0.1, 0.0, 0.0, 0.0, 0.18] => 0 (expected 0)\n",
            "[0.03, 0.01, 0.0, 0.0, 0.0, 0.0, 0.0, 0.04] => 1 (expected 1)\n",
            "[0.02, 0.11, 0.23, 0.0, 0.0, 0.0, 0.54, 0.15] => 1 (expected 1)\n",
            "[0.0, 0.16, 0.64, 0.03, 0.0, 0.0, 0.0, 0.06] => 0 (expected 0)\n",
            "[0.0, 0.0, 0.9, 0.0, 0.0, 0.0, 0.0, 0.17] => 0 (expected 0)\n",
            "2/2 [==============================] - 0s 2ms/step - loss: 0.4658 - accuracy: 0.9020\n",
            "Testing Accuracy: 90.20\n"
          ],
          "name": "stdout"
        }
      ]
    }
  ]
}